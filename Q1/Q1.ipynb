{
 "cells": [
  {
   "cell_type": "code",
   "execution_count": 2,
   "id": "203fcd0a",
   "metadata": {},
   "outputs": [
    {
     "name": "stdout",
     "output_type": "stream",
     "text": [
      "***Annual Temprature Report for Seoul in 2022***\n",
      "Average Temprature:  13.26 Celcius\n",
      "Average Minimum Temprature:  9.21 Celcius\n",
      "Average Maximum Temprature:  18.05 Celcius\n"
     ]
    }
   ],
   "source": [
    "if __name__ == \"__main__\":\n",
    "    import csv\n",
    "    f=open('seoul.csv','r',encoding='ANSI')\n",
    "    data=csv.reader(f)\n",
    "    header=next(data)\n",
    "\n",
    "    total=0\n",
    "    total_min=0\n",
    "    total_max=0\n",
    "    count=0\n",
    "    for row in data:\n",
    "        if row[3]=='':\n",
    "            continue\n",
    "        else:\n",
    "            row[4]=float(row[4])\n",
    "            row[3]=float(row[3])\n",
    "            row[2]=float(row[2])\n",
    "        count=count+1\n",
    "        total=total+row[2]\n",
    "        total_max=total_max+row[3]\n",
    "        total_min=total_min+row[4]\n",
    "    \n",
    "        avr=total/count\n",
    "        avr_max=total_max/count\n",
    "        avr_min=total_min/count\n",
    "    f.close()\n",
    "    print(\"***Annual Temprature Report for Seoul in 2022***\")\n",
    "    print(\"Average Temprature: \",round(avr,2),\"Celcius\")\n",
    "    print(\"Average Minimum Temprature: \",round(avr_max,2),\"Celcius\")\n",
    "    print(\"Average Maximum Temprature: \",round(avr_min,2),\"Celcius\")\n",
    "\n",
    "    \n"
   ]
  },
  {
   "cell_type": "code",
   "execution_count": null,
   "id": "52924bd1",
   "metadata": {},
   "outputs": [],
   "source": []
  },
  {
   "cell_type": "code",
   "execution_count": null,
   "id": "73ff8dd2",
   "metadata": {},
   "outputs": [],
   "source": []
  }
 ],
 "metadata": {
  "kernelspec": {
   "display_name": "Python 3 (ipykernel)",
   "language": "python",
   "name": "python3"
  },
  "language_info": {
   "codemirror_mode": {
    "name": "ipython",
    "version": 3
   },
   "file_extension": ".py",
   "mimetype": "text/x-python",
   "name": "python",
   "nbconvert_exporter": "python",
   "pygments_lexer": "ipython3",
   "version": "3.11.2"
  }
 },
 "nbformat": 4,
 "nbformat_minor": 5
}
