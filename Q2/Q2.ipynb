{
 "cells": [
  {
   "cell_type": "code",
   "execution_count": 1,
   "id": "c85d5e66",
   "metadata": {},
   "outputs": [
    {
     "name": "stdout",
     "output_type": "stream",
     "text": [
      "***Annual Temprature Report for Seoul in 2022***\n",
      "Day with the Largest Temprature Variation:  2022-11-29\n",
      "Maximum Temprature Difference:  16.6 Celcius\n",
      "Day with the Smallest Temprature Variation:  2022-06-29\n",
      "Minumum Temprature Difference:  1.7 Celcius\n"
     ]
    }
   ],
   "source": [
    "if __name__ == \"__main__\":\n",
    "    import csv\n",
    "    f=open('seoul.csv','r',encoding='ANSI')\n",
    "    data=csv.reader(f)\n",
    "    header=next(data)\n",
    "\n",
    "    max_diff=0\n",
    "    max_date=''\n",
    "\n",
    "    min_diff=100\n",
    "    min_day=''\n",
    "\n",
    "    for row in data:\n",
    "        if row[3]=='':\n",
    "            continue\n",
    "        else:\n",
    "            row[4]=float(row[4])\n",
    "            row[3]=float(row[3])\n",
    "            row[2]=float(row[2])\n",
    "        if max_diff<row[4]-row[3]:\n",
    "            max_day=row[0]\n",
    "            max_diff=row[4]-row[3]\n",
    "        \n",
    "        if min_diff>row[4]-row[3]:\n",
    "            min_day=row[0]\n",
    "            min_diff=row[4]-row[3]\n",
    "        \n",
    "    print(\"***Annual Temprature Report for Seoul in 2022***\")\n",
    "    print(\"Day with the Largest Temprature Variation: \", max_day.lstrip())\n",
    "    print(\"Maximum Temprature Difference: \",round(max_diff,2),\"Celcius\")\n",
    "    print(\"Day with the Smallest Temprature Variation: \",min_day.lstrip())\n",
    "    print(\"Minumum Temprature Difference: \",round(min_diff,2),\"Celcius\")\n",
    "\n",
    "    \n"
   ]
  },
  {
   "cell_type": "code",
   "execution_count": null,
   "id": "550b12e1",
   "metadata": {},
   "outputs": [],
   "source": []
  }
 ],
 "metadata": {
  "kernelspec": {
   "display_name": "Python 3 (ipykernel)",
   "language": "python",
   "name": "python3"
  },
  "language_info": {
   "codemirror_mode": {
    "name": "ipython",
    "version": 3
   },
   "file_extension": ".py",
   "mimetype": "text/x-python",
   "name": "python",
   "nbconvert_exporter": "python",
   "pygments_lexer": "ipython3",
   "version": "3.11.2"
  }
 },
 "nbformat": 4,
 "nbformat_minor": 5
}
